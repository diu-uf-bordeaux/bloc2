{
 "cells": [
  {
   "cell_type": "markdown",
   "metadata": {
    "slideshow": {
     "slide_type": "slide"
    }
   },
   "source": [
    "# Terminaison et correction des algorithmes (18 juin 2019)\n",
    "## DIU 2019, Université de Bordeaux\n",
    "### Cedric Chauve, cedric.chauve@u-bordeaux.fr"
   ]
  },
  {
   "cell_type": "markdown",
   "metadata": {},
   "source": [
    "## Notes (cedric, 18/06/2019).\n",
    "Il s'agit d'un brouillon, qui comprend un mélange du matériel présenté dans les transparents de Nicolas Nisse et des algorithmes vus dans le cours sur la complexité. Il faudrait ajouter des éléments sur les algorithmes gloutons et idéalement d'autres exemples pour éviter de revoir toujours les mêmes algorithmes. Le style est sans doute aussi trop formel."
   ]
  },
  {
   "cell_type": "markdown",
   "metadata": {
    "slideshow": {
     "slide_type": "slide"
    }
   },
   "source": [
    "Préambule.\n",
    "Ce calepin Jupyter est le squelette du cours du Mercredi 26 juin portant sur les techniques de preuve de terminaison et correction des algorithmes. Il contient la plus grande partie du matériel présenté durant les trois heures du cours, introduit de manière relativement informelle et en utilisant plusieurs exemples relativement simple. Un traitement plus complet peut se trouver dans tout texte d'introduction aux algorithmes, par exemple les transparents du cours de Nicolas Nisse disponibles sur le repo github du DIU. \n",
    "\n",
    "Remarques.\n",
    "Tous les algorithmes dont on analyse la complexité dans ce document sont implementés dans des cellules de type \"code\" permettant de les exécuter si nécessaire.\n",
    "\n",
    "Pour tirer avantage du format offert par les calepins Jupyter, chaque section de ce document se termine par une cellule vide \"Notes\" permettant de prendre des notes en direct durant le cours."
   ]
  },
  {
   "cell_type": "markdown",
   "metadata": {
    "slideshow": {
     "slide_type": "slide"
    }
   },
   "source": [
    "## 1. Introduction\n",
    "\n",
    "**Algorithme.** Séquence d’opérations (élémentaires) qui, étant données des entrées, calcule une sortie.\n",
    "\n",
    "**Spécification.** L'entrée d'un algorithme doit satisfaire des *préconditions*. La sortie doit satisfaire des *postconditions*.\n",
    "\n",
    "**Terminaison.** Un algorithme termine si il produit une sortie.\n",
    "\n",
    "**Correction.** Un algorithme est correct si, appliqué à un entrée qui satisfait les préconditions, il termine et la sortie satisfait les postconditions."
   ]
  },
  {
   "cell_type": "markdown",
   "metadata": {
    "slideshow": {
     "slide_type": "slide"
    }
   },
   "source": [
    "### Exemple 1 : tri d'une permutation.\n",
    "\n",
    "*Entrée.* Un tableau $T$ de $n$ éléments.  \n",
    "*Sortie.* Le tableau $T$.     \n",
    "*Préconditions.* Chaque entier de $\\{1,\\dots,n\\}$ apparaît exactement une fois dans $T$.  \n",
    "*Postconditions.* Pour toute position $i$ de $T$ sauf la dernière, $T[i]<T[i+1]$.\n",
    "\n",
    "\n",
    "### Exemple 2 : tri d'un tableau d'entiers positifs.\n",
    "\n",
    "*Entrée.* Un tableau $T$ de $n$ élément.  \n",
    "*Sortie.* Le tableau $T$.  \n",
    "*Préconditions.* Chaque élément de $T$ est un entier positif.  \n",
    "*Postconditions.* Pour toute position $i$ de $T$ sauf la dernière, $T[i]\\leq T[i+1]$."
   ]
  },
  {
   "cell_type": "markdown",
   "metadata": {
    "slideshow": {
     "slide_type": "slide"
    }
   },
   "source": [
    "### Exemple 3 : calcul de la somme des $n$ premiers entiers naturels.\n",
    "\n",
    "*Entrée.* Un nombre $n$.   \n",
    "*Sortie.* Un nombre $N$.  \n",
    "*Préconditions.* $n$ est un entier positif.  \n",
    "*Postconditions.* $N=1+2+\\dots+n$.\n",
    "\n",
    "### Exemple 4 : recherche des occurrences d'un motif dans une séquence d'ADN.\n",
    "\n",
    "*Entrée.* Deux séquences $T$ et $M$ (le texte et le motif) de longueurs respectives $n$ et $m$.  \n",
    "*Sortie.* Une liste $O = \\{i_1,\\dots,i_k\\}$ d'entiers.  \n",
    "*Préconditions.* $T$ et $N$ sont des séquences sur l'alphabet $\\{A,C,G,T\\}$.  \n",
    "*Postconditions.* Pour $j=1,\\dots,k$, $i_j+m-1 \\leq n$ et $T[i_j\\cdots i_j+m-1]=M$. Il n'existe pas $p \\notin O$ tel que $T[p\\cdots p+m-1]=M$."
   ]
  },
  {
   "cell_type": "markdown",
   "metadata": {
    "slideshow": {
     "slide_type": "notes"
    }
   },
   "source": [
    "### Notes."
   ]
  },
  {
   "cell_type": "markdown",
   "metadata": {
    "slideshow": {
     "slide_type": "slide"
    }
   },
   "source": [
    "## 2. Terminaison\n",
    "\n",
    "Comment prouver la terminaison d'une suite d'instructions (i.e. un candidat algorithme)?\n",
    "\n",
    "**Le cas facile.** Si la suite d'instructions n'est pas récursive et n'utilise pas de boucle, alors elle termine (en temps $\\Theta(1)$).\n",
    "\n",
    "**Le cas général.** Il faut définir un *convergent*, i.e. une quantité qui diminue à chaque itération/appel récursif, vivant dans un ensemble ordonné bien fondé (où il n’existe pas de suites infinies strictement décroissantes) et telle que lorsqu'elle a atteint sa valeur minimum, l'algorithme n'a plus qu'un nombre borné d'instructions à éxécuter."
   ]
  },
  {
   "cell_type": "markdown",
   "metadata": {
    "slideshow": {
     "slide_type": "slide"
    }
   },
   "source": [
    "### 2.1. Exemples de non-terminaison\n",
    "\n",
    "Voici deux suites d'instructions prenant en entrée un entier positif $n$ et qui ne terminent pas."
   ]
  },
  {
   "cell_type": "code",
   "execution_count": 1,
   "metadata": {
    "slideshow": {
     "slide_type": "fragment"
    }
   },
   "outputs": [],
   "source": [
    "# !! Ne pas exécuter ces suites d'instructions. Cela serait stupide.\n",
    "\n",
    "def algo_stupide_1(n):\n",
    "    i = n+1\n",
    "    while i>n:\n",
    "        i += 1\n",
    "    print(\"Terminé\")\n",
    "    \n",
    "def algo_stupide_2(n):\n",
    "    i = n\n",
    "    x = 1.0/float(n)\n",
    "    while x>0:\n",
    "        i += 1\n",
    "        x += 1.0/float(i)\n",
    "    print(\"Terminé\")    "
   ]
  },
  {
   "cell_type": "markdown",
   "metadata": {
    "slideshow": {
     "slide_type": "fragment"
    }
   },
   "source": [
    "*algo_stupide_1* ne termine pas. La seule quantité modifiée par cette suite d'instructions est $i$ et elle ne fait que croître.\n",
    "\n",
    "*algo_stupide_2* ne termine pas. La variable $x$ diminue à chaque itération mais vit dans un domaine qui n'est pas bien fondé (les nombres réels de l'intervalle $[0,1]$)."
   ]
  },
  {
   "cell_type": "markdown",
   "metadata": {
    "slideshow": {
     "slide_type": "notes"
    }
   },
   "source": [
    "#### Notes."
   ]
  },
  {
   "cell_type": "markdown",
   "metadata": {
    "slideshow": {
     "slide_type": "slide"
    }
   },
   "source": [
    "### 2.2. Somme des premiers entiers naturels."
   ]
  },
  {
   "cell_type": "code",
   "execution_count": 2,
   "metadata": {
    "slideshow": {
     "slide_type": "fragment"
    }
   },
   "outputs": [],
   "source": [
    "def somme_entiers_naturels_v1(n):\n",
    "    somme = 0\n",
    "    for i in range(1,n+1):\n",
    "        somme += i\n",
    "    return(somme)\n",
    "\n",
    "def somme_entiers_naturels_v2(n):\n",
    "    somme = n*(n+1)/2\n",
    "    return(somme)"
   ]
  },
  {
   "cell_type": "markdown",
   "metadata": {
    "slideshow": {
     "slide_type": "fragment"
    }
   },
   "source": [
    "*somme_entiers_naturels_v2* ne contient ni boucle, ni appel récursif, donc termine.\n",
    "\n",
    "*somme_entiers_naturels_v1* termine car le convergent $n-i$ vit dans le domaine bien fondé $\\{1,2,\\cdots,n\\}$, décroît à chaque itération (il converge vers $0$) et lorsqu'il atteint $0$ (i.e. $i=n$) l'algorithme n'exécute qu'une instruction. \n",
    "\n",
    "De manière générale, un algorithme non-récursif n'utilisant que des boucles *for* tel que pour toute boucle, son indice n'est pas modifié à l'intérieur de la boucle termine."
   ]
  },
  {
   "cell_type": "markdown",
   "metadata": {
    "slideshow": {
     "slide_type": "notes"
    }
   },
   "source": [
    "#### Notes."
   ]
  },
  {
   "cell_type": "markdown",
   "metadata": {
    "slideshow": {
     "slide_type": "slide"
    }
   },
   "source": [
    "### 2.3. Le tri par insertion."
   ]
  },
  {
   "cell_type": "code",
   "execution_count": 3,
   "metadata": {
    "slideshow": {
     "slide_type": "fragment"
    }
   },
   "outputs": [],
   "source": [
    "def tri_Insertion(T):\n",
    "    n = len(T)\n",
    "    for i in range(1,n):\n",
    "        j = i-1;\n",
    "        x = T[i]\n",
    "        while j>=0 and x<T[j]:\n",
    "            T[j+1] = T[j]\n",
    "            j -= 1\n",
    "        T[j+1] = x"
   ]
  },
  {
   "cell_type": "markdown",
   "metadata": {
    "slideshow": {
     "slide_type": "fragment"
    }
   },
   "source": [
    "On observe une boucle *for* dont l'indice $i$ n'est pas modifié, mais aussi une boucle *while*. \n",
    "\n",
    "Il faut donc trouver un convergent pour chaque itération de la boucle *for* qui nous assure que la boucle *while* termine : la variable $j$ décroît à chaque itération de la boucle *while* et vit dans le domaine $\\{-1,0,\\cdots,i-1\\}$ qui est bien fondé. \n",
    "\n",
    "De plus, quand $j$ atteint sa valeur minimum (au pire $-1$), la boucle n'est suivie que d'une instruction.\n",
    "\n",
    "Donc aucune exécution de la boucle *while* n'est infinie et l'algorithme termine."
   ]
  },
  {
   "cell_type": "markdown",
   "metadata": {
    "slideshow": {
     "slide_type": "notes"
    }
   },
   "source": [
    "#### Notes."
   ]
  },
  {
   "cell_type": "markdown",
   "metadata": {
    "slideshow": {
     "slide_type": "slide"
    }
   },
   "source": [
    "### 2.4. Le tri bulle.\n",
    "\n",
    "Commençons par regarder la première version du tri bulle, dont nous avions vu qu'elle souffrait du défaut qu'elle prend un temps $\\Theta(n^2)$ sour toute entrée $T$, même si $T$ est trié. "
   ]
  },
  {
   "cell_type": "code",
   "execution_count": 4,
   "metadata": {
    "slideshow": {
     "slide_type": "slide"
    }
   },
   "outputs": [],
   "source": [
    "def tri_Bulle_v1(T):\n",
    "    n = len(T)\n",
    "    for i in range(n-1,0,-1):\n",
    "        for j in range(i):\n",
    "            if T[j]>T[j+1]:\n",
    "                aux    = T[j]\n",
    "                T[j]   = T[j+1]\n",
    "                T[j+1] = aux"
   ]
  },
  {
   "cell_type": "markdown",
   "metadata": {
    "slideshow": {
     "slide_type": "fragment"
    }
   },
   "source": [
    "On observe deux boucles *for*, dont les indices ne sont pas modifiés, donc termine. Formellement on devrait procéder en deux étapes :\n",
    "- l'indice $i$ vit dans l'ensemble bien fondé $\\{0,1,\\cdots,n-2\\}$ et décroît à chaque itération (donc $i$ est le convergent pour la boucle externe qui ne sera pas exécutée un nombre infini de fois),\n",
    "- l'indice $j$ vit dans l'ensemble bien fondé  $\\{0,1,\\cdots,i-1\\}$ et $i-j$ décroît à chaque itération.\n",
    "\n",
    "Cet algorithme, bien que non satisfaisant, est cependant intéressant car il est facile d'en prouver la terminaison et la complexité."
   ]
  },
  {
   "cell_type": "markdown",
   "metadata": {
    "slideshow": {
     "slide_type": "slide"
    }
   },
   "source": [
    "Passons maintenant à la version plus classique, qui itère une boucle externe *while* tant que le tableau n'est pas trié."
   ]
  },
  {
   "cell_type": "code",
   "execution_count": 5,
   "metadata": {
    "slideshow": {
     "slide_type": "fragment"
    }
   },
   "outputs": [],
   "source": [
    "def tri_Bulle_v2(T):\n",
    "    n = len(T)\n",
    "    trie = False\n",
    "    while not trie:\n",
    "        trie = True\n",
    "        for j in range(n-1):\n",
    "            if T[j]>T[j+1]:\n",
    "                aux    = T[j]\n",
    "                T[j]   = T[j+1]\n",
    "                T[j+1] = aux\n",
    "                trie = False"
   ]
  },
  {
   "cell_type": "markdown",
   "metadata": {
    "slideshow": {
     "slide_type": "slide"
    }
   },
   "source": [
    "La terminaison de la boucle *for* est immédiate.\n",
    "\n",
    "Le convergent pour cet algorithme n'est pas immédiat à trouver. Il ne peut pas s'agir d'une variable car on n'en introduit qu'une, $j$, qui ne décroît pas forcément lors de chaque itération de la boucle *while*. Il faut en trouver un qui se base non pas sur la structure de l'algorithme, mais sur le traitement effectué, à savoir le déplacement d'éléments de $T$."
   ]
  },
  {
   "cell_type": "markdown",
   "metadata": {
    "slideshow": {
     "slide_type": "slide"
    }
   },
   "source": [
    "Le convergent est ici le nombre de paires d'indices $\\{a,b\\}$ tels que $0\\leq a<b< n$ et $T[a]>T[b]$, connu comme nombre d'*inversions* dans $T$. Ce nombre est un entier qui vit dans le domaine bien fondé $\\{0,1,\\cdots,n(n-1)/2\\}$. Il peut donc servir de convergent et il faut donc prouver qu'il décroît strictement à chaque itération de la boucle *while*. Appelons le $I$.\n",
    "\n",
    "*Cas 1.* Si $I=0$ au départ d'une itération de la boucle *while*, il n'existe pas d'indice $j$ tel que $T[j]>T[j+1]$ (sinon $I>0$) donc le booléen *trie* n'est pas modifié et il s'agit de la dernière itération de la boucle *while*.\n",
    "\n",
    "*Cas 2.* Si $I>0$ au départ d'une itération de la boucle *while*, on veut montrer qu'il existe $j$ tel que $T[j]>T[j+1]$. Si cela n'est pas le cas, alors $T$ est trié et $I=0$, donc une contradiction. Donc un tel indice existe et $\\{j,j+1\\}$ forme une inversion. L'algorithme échange $T[j]$ et $T[j+1]$, donc cette inversion disparaît. Cet échange de deux éléments consécutifs ne crée pas de nouvelle inversion. Donc $I$ décroît.\n",
    "\n",
    "On vient de démontrer que le nombre d'inversions est un convergent pour cet algorithme, qui termine."
   ]
  },
  {
   "cell_type": "markdown",
   "metadata": {
    "slideshow": {
     "slide_type": "slide"
    }
   },
   "source": [
    "#### Exercice.\n",
    "Appliquer le même raisonnement, utilisant le même convergent, à la version suivante du tri bulle. Quelle est la complexité de cet algorithme dans le pire cas?"
   ]
  },
  {
   "cell_type": "code",
   "execution_count": 6,
   "metadata": {
    "slideshow": {
     "slide_type": "fragment"
    }
   },
   "outputs": [],
   "source": [
    "def tri_Bulle_v3(T):\n",
    "    n = len(T)\n",
    "    trie = False\n",
    "    while not trie:\n",
    "        trie = True\n",
    "        j = 0\n",
    "        while j<n-1 and T[j]<=T[j+1]:\n",
    "            j += 1\n",
    "        if j<n-1:\n",
    "            aux    = T[j]\n",
    "            T[j]   = T[j+1]\n",
    "            T[j+1] = aux\n",
    "            trie = False\n",
    "            "
   ]
  },
  {
   "cell_type": "markdown",
   "metadata": {
    "slideshow": {
     "slide_type": "notes"
    }
   },
   "source": [
    "#### Notes."
   ]
  },
  {
   "cell_type": "markdown",
   "metadata": {
    "slideshow": {
     "slide_type": "slide"
    }
   },
   "source": [
    "### 2.5. Le tri fusion.\n",
    "\n",
    "Le tri fusion est intéressant car il s'agit d'un algorithme récursif. On va voir que cela simplifie la preuve de terminaison."
   ]
  },
  {
   "cell_type": "code",
   "execution_count": 7,
   "metadata": {
    "slideshow": {
     "slide_type": "slide"
    }
   },
   "outputs": [],
   "source": [
    "# Fusionner deux sous-tableaux triés T[g..m] et T[m+1..d] en un tableau T[g..d] trié\n",
    "def fusionner(T,g,m,d):\n",
    "    R = [0]*(d-g+1)\n",
    "    i = g\n",
    "    j = m+1\n",
    "    k = 0\n",
    "    while i<=m and j<=d:\n",
    "        if T[i]<=T[j]:\n",
    "            R[k] = T[i]\n",
    "            i += 1\n",
    "        else:\n",
    "            R[k] = T[j]\n",
    "            j += 1\n",
    "        k += 1\n",
    "    while i<=m:\n",
    "        R[k] = T[i]\n",
    "        i += 1\n",
    "        k += 1\n",
    "    while j<=d:\n",
    "        R[k] = T[j]\n",
    "        j += 1\n",
    "        k += 1\n",
    "    for k in range(len(R)):\n",
    "        T[g+k] = R[k]\n",
    "        \n",
    "def tri_Fusion_Rec(T,g,d):\n",
    "    if g<d:\n",
    "        m = (g+d)//2\n",
    "        nb_etapes += tri_Fusion_Rec(T,g,m)\n",
    "        nb_etapes += tri_Fusion_Rec(T,m+1,d)\n",
    "        nb_etapes += fusionner(T,g,m,d)\n",
    "\n",
    "def tri_Fusion(T):\n",
    "    n = len(T)\n",
    "    return(tri_Fusion_Rec(T,0,n-1))"
   ]
  },
  {
   "cell_type": "markdown",
   "metadata": {
    "slideshow": {
     "slide_type": "slide"
    }
   },
   "source": [
    "Le point important est de prouver d'abord que *fusionner* termine. La structure en 4 boucles simples rend la tâche aisée:\n",
    "- la première boucle a pour convergent la paire $(m-i,d-j)$ qui vit dans le domaine bien fondé des paires d'entiers $(a,b)\\in \\{0,\\cdots,m,m+1\\}\\times\\{0,\\cdots,d,d+1\\}$ et où $(a,b)<(c,d)$ si $a<c$ ou $a=c,b<d$ (ordre lexicographique);\n",
    "- la seconde boucle a pour convergent $m-i$ qui vit dans $\\{0,\\cdots,m,m+1\\}$;\n",
    "- la troisème boucle a pour convergent $d-j$ qui vit dans $\\{0,\\cdots,d,d+1\\}$;\n",
    "- la dernière boucle est une boucle *for* sans modification de l'indice $k$ dans la boucle."
   ]
  },
  {
   "cell_type": "markdown",
   "metadata": {
    "slideshow": {
     "slide_type": "slide"
    }
   },
   "source": [
    "On peut alors procéder par induction sur la taille du tableau $T$ à trier.\n",
    "\n",
    "*Cas de base.* Supposons que $T$ est réduit à un élément, i.e. $g=d$. Alors *tri_Fusion_Rec* ne fait rien, donc termine.\n",
    "\n",
    "*Hypothèse d'induction.* Pour $1\\leq d-g+1<n$, *tri_Fusion_Rec(T,g,d)* termine.\n",
    "\n",
    "*Cas général.* Soit $T[g..d]$ un tableau de taille $n$. Par induction, si $g<d$, *tri_Fusion_Rec(T,g,m)* et *tri_Fusion_Rec(T,m+1,d)* terminent. On a prouvé précédemment que *fusionner(T,g,m,d)* termine. Donc *tri_Fusion_Rec(T,g,d)* termine.\n",
    "\n",
    "La preuve est simple, du fait de la structure récursive du programme qui ouvre la porte naturellement à une preuve par induction."
   ]
  },
  {
   "cell_type": "markdown",
   "metadata": {
    "slideshow": {
     "slide_type": "slide"
    }
   },
   "source": [
    "### 2.6. La suite de Syracuse.\n",
    "\n",
    "On va maintenant étudier un algorithme pour lequel on ne sait pas prouver qu'il termine, bien qu'on le conjecture.\n",
    "\n",
    "Soit $u_0$ un entier psoitif arbitraire. On définit la suite infinie d'entiers $u_0,u_1,u_2,\\cdots$ comme suit:\n",
    "$$u_{i+1} = u_i/2\\mbox{ si $u_i$ est pair}$$\n",
    "$$u_{i+1} = 3u_i+1\\mbox{ si $u_i$ est impair}$$\n",
    "\n",
    "On conjecture que pour toute valeur de $u_0$, il existe $n$ tel que $u_n=1$. On veut donc trouver la plus petite valeur de $n$ telle que $u_n=1$."
   ]
  },
  {
   "cell_type": "code",
   "execution_count": 8,
   "metadata": {
    "slideshow": {
     "slide_type": "fragment"
    }
   },
   "outputs": [],
   "source": [
    "def syracuse(u_0):\n",
    "    u_n = u0\n",
    "    n = 0\n",
    "    while u_n>1:\n",
    "        if u_n % 2 == 0:\n",
    "            u_n = u_n/2\n",
    "        else:\n",
    "            u_n = 3*u_n+1\n",
    "        n += 1\n",
    "    return(n)"
   ]
  },
  {
   "cell_type": "markdown",
   "metadata": {
    "slideshow": {
     "slide_type": "fragment"
    }
   },
   "source": [
    "On ne sait pas prouver que cet algorithme termine. Il est composé d'une boucle while itérant sur un indice qui peut diminuer ou croître dépendant de sa parité."
   ]
  },
  {
   "cell_type": "markdown",
   "metadata": {
    "slideshow": {
     "slide_type": "slide"
    }
   },
   "source": [
    "### 2.7. L'algorithme d'Euclide.\n",
    "\n",
    "Cet algorithme calcule le *plus grand diviseur commun* (pgcd) de deux nombres entiers $a$ et $b$."
   ]
  },
  {
   "cell_type": "code",
   "execution_count": 9,
   "metadata": {
    "slideshow": {
     "slide_type": "fragment"
    }
   },
   "outputs": [],
   "source": [
    "def euclide_pgcd(a,b):\n",
    "    x = a\n",
    "    y = b\n",
    "    while y > 0:\n",
    "        aux = y\n",
    "        y = x % y\n",
    "        x = aux\n",
    "    return(x)"
   ]
  },
  {
   "cell_type": "markdown",
   "metadata": {
    "slideshow": {
     "slide_type": "fragment"
    }
   },
   "source": [
    "Cet algorithme a une seule boucle *while*. Le convergent est l'entier $y$ qui vit dans le domaine bien fondé $\\{0,\\cdots,y\\}$. A chaque itération, la nouvelle valeur $y'$ de $y$ est le reste de la division de $x$ par $y$, donc $y'<y$. Donc $y$ décroît strictement, ce qui prouve la terminaison. "
   ]
  },
  {
   "cell_type": "markdown",
   "metadata": {
    "slideshow": {
     "slide_type": "slide"
    }
   },
   "source": [
    "## 3. Correction des algorithmes.\n",
    "\n",
    "On veut maintenant prouver qu'un algorithme qui termine, si on l'applique à une entrée qui satisfait les préconditions, produit une sortie qui satisfait les postconditions."
   ]
  },
  {
   "cell_type": "markdown",
   "metadata": {
    "slideshow": {
     "slide_type": "slide"
    }
   },
   "source": [
    "### 3.1. Le tri bulle.\n",
    "\n",
    "Prouver la correction de l'algorithme *tri_Bulle_v2* peut se faire en utilisant le convergent utilisé pour en prouver la terminaison.\n",
    "\n",
    "Pour rappel, ce convergent, noté $I$, est défini comme le nombre de paires d'indices $\\{a,b\\}$ tels que $0\\leq a<b< n$ et $T[a]>T[b]$. \n",
    "\n",
    "Il est clair que si $I=0$, le tableau $T$ est trié.\n",
    "\n",
    "On a démontré que ce convergent décroît à chaque itération de la boucle *while*. Il faut donc montrer que quand l'algorithme se termine, $I=0$.\n",
    "\n",
    "Dans notre preuve de terminaison, on a montré que $I>0$ implique que $I$ décroît. \n",
    "\n",
    "Donc $I$ converge vers $0$ et l'algorithme est correct."
   ]
  },
  {
   "cell_type": "markdown",
   "metadata": {
    "slideshow": {
     "slide_type": "slide"
    }
   },
   "source": [
    "### 3.2. Invariants et la somme des premiers entiers naturels.\n",
    "\n",
    "Une autre technique de preuve de correction utilise la notion d'*invariant*. \n",
    "\n",
    "---\n",
    "**Définition.**  Un invariant est un ensemble de propriétés qui relient les variables d'un algorithme et sont vraies (en général à des étapes spécifiées de l'algorithme). Les valeurs des variables peuvent changer mais pas les relations qui les lient.  \n",
    "\n",
    "---\n",
    "Un invariant peut servir à prouver la correction d'un algorithme si les propriétés qu'il contient sur la sortie implique qu'elle satisfait les postconditions définissant une sortie correcte."
   ]
  },
  {
   "cell_type": "markdown",
   "metadata": {
    "slideshow": {
     "slide_type": "slide"
    }
   },
   "source": [
    "Pour l'algorithme *somme_entiers_naturels_v1(n)*, on peut définir l'invariant suivant: après l'itération $i$ de la boucle $somme = 1+2+\\cdots+i$.\n",
    "\n",
    "On prouve généralement un invariant par induction.\n",
    "\n",
    "*Cas de base*: pas d'itération. On a bien $somme=0$, donc l'invariant est vrai.\n",
    "\n",
    "*Hypothèse d'induction.* Après l'itération $0\\leq i-1$ de la boucle $somme = 1+2+\\cdots+(i-1)$.\n",
    "\n",
    "*Cas général.* Quelle est la valeur de $somme$ après l'itération $i$? Il s'agit de $somme+i=1+2+\\cdots+(i-1)+i$ par induction."
   ]
  },
  {
   "cell_type": "markdown",
   "metadata": {},
   "source": [
    "### 3.3. L'algorithme d'Euclide.\n",
    "\n",
    "Invariant : avant chaque itération de la boucle *while*, $pgcd(x,y)=pgcd(a,b)$.\n",
    "\n",
    "Si cet invariant est satisfait, on a deux cas :\n",
    "- On ne rentre pas dans la boucle, donc $b=0$, ce qui implique $x=a=pgcd(a,b)$ et on retourne bien $x=pgcd(a,b)$.\n",
    "- On itère la boucle au moins une fois; la condition d'entrée dans la boucle étant $y=0$, quand l'algorithme détecte que $y=0$, on a $x=pgcd(x,0)$ (dernière instruction de la boucle), donc par l'invariant $x=pgcd(a,b)$ et on retourne $x$ qui satisfait la postcondition d'être le pgcd de $a$ et $b$.\n",
    "\n",
    "Pour prouver cet invariant, on utilise l'induction sur le nombre d'itérations dela boucle.\n",
    "\n",
    "*Cas de base.* Aucune itération. $y=b$. On a $x=a,y=b$ donc $pgcd(a,b)=pgcd(x,y)$.\n",
    "\n",
    "*Hypothèse d'induction.$ Après $i-1\\geq 0$ itératons de la boucle, $pgcd(a,b)=pgcd(x,y)$.\n",
    "\n",
    "*Cas général.* Après $i$ itérations. \n",
    "Durant la  $i^{eme}$ itération, soient $X$ et $Y$ les valeurs de $x$ et $y$ au début de l'itération. \n",
    "On calcule les nouvelles valeurs de $x$ et $y$ par $y = X\\mod Y$ et $x=Y$. \n",
    "On a donc $X = kY + y$, donc, par le théorème fondamental, $pgcd(X,Y)=pgcd(Y,x)=pgcd(x,y)$. \n",
    "Comme par induction on a $pgcd(a,b)=pgcd(X,Y)$, on a $pgcd(a,b)=pgcd(x,y)$. \n",
    "Donc avant l'itération suivante, $pgcd(a,b)=pgcd(x,y)$ et l'invariant est satisfait."
   ]
  },
  {
   "cell_type": "markdown",
   "metadata": {},
   "source": [
    "### 3.4. Le tri fusion.\n",
    "\n",
    "La preuve de correction de cet algorithme se fait en deux temps : prouver que *fusionner* est correcte, puis prouver que *tri_Fusion_Rec* est correcte."
   ]
  },
  {
   "cell_type": "markdown",
   "metadata": {},
   "source": [
    "La précondition de *fusionner(T,g,m,d)* est que $T[g..m]$ et $T[m+1..d]$ sont triés.  \n",
    "La postcondition est que $T[g..d]$ est trié.  \n",
    "L'analyse de la dernière boucle (qui recopie $R$ dans $T[g..d]$) implique que cette postcondition est équivalente au fait que le tableau $R$ contient les éléments de $T[g..m]$ et $T[m+1..d]$ triés.\n",
    "\n",
    "On remarque que l'algorithme *fusionner* incrémente à chaque itération des trois premières boucles. \n",
    "\n",
    "On peut utiliser $k$ pour énoncer l'invariant suivant: juste après chaque affectation de $k$, $R[0..k-1]$ contient les $k$ plus petits éléments de $T[g..m]$ et $T[m+1..d]$ triés en ordre croissant.\n",
    "\n",
    "Là encore on peut prouver cet invariant par induction sur $k$.\n",
    "\n",
    "**A finir.**"
   ]
  },
  {
   "cell_type": "markdown",
   "metadata": {},
   "source": []
  },
  {
   "cell_type": "code",
   "execution_count": null,
   "metadata": {},
   "outputs": [],
   "source": []
  }
 ],
 "metadata": {
  "celltoolbar": "Diaporama",
  "kernelspec": {
   "display_name": "Python 3",
   "language": "python",
   "name": "python3"
  },
  "language_info": {
   "codemirror_mode": {
    "name": "ipython",
    "version": 3
   },
   "file_extension": ".py",
   "mimetype": "text/x-python",
   "name": "python",
   "nbconvert_exporter": "python",
   "pygments_lexer": "ipython3",
   "version": "3.6.8"
  }
 },
 "nbformat": 4,
 "nbformat_minor": 2
}

{
 "cells": [
  {
   "cell_type": "markdown",
   "metadata": {
    "slideshow": {
     "slide_type": "slide"
    }
   },
   "source": [
    "# Preuve de correction de deux algorithmes gloutons (26 juin 2019)\n",
    "## DIU 2019, Université de Bordeaux\n",
    "### Cedric Chauve, cedric.chauve@u-bordeaux.fr"
   ]
  },
  {
   "cell_type": "markdown",
   "metadata": {
    "slideshow": {
     "slide_type": "slide"
    }
   },
   "source": [
    "# 1. Les ponts de l'archipel\n",
    "\n",
    "**Enoncé du problème.** On a *N* îles et pour chaque paire d'îles *(I,J)* le coût de construire un pont entre *I* et *J* est *c(I,J)*. On veut construire un réseau de ponts de coût mde construction minimal tel que l'on puisse se déplacer entre toute paire d'îles en utilisant ces ponts. \n",
    "\n",
    "**Algorithme glouton (algorithme de Prim).** \n",
    "\n",
    "// On commence avec une île de départ arbitraire et aucun pont construit\n",
    "- PONTS_CONSTRUITS = {}   \n",
    "- ILES_CONNECTEES = {I}  // choisie arbitrairement parmi toutes les îles\n",
    "// Il reste N-1 îles à connecter  \n",
    "- Pour i de 1 à N-1  \n",
    "  - Soit CHOIX l'ensemble des paires d'îles (X,Y) telles que   \n",
    "    - X est dans ILES_CONNECTEES   \n",
    "    - Y n'est pas dans ILES_CONNECTEES  \n",
    "  - Soit (Xg,Yg) une paire d'îles de CHOIX telle que c(Xg,Yg) = min{c(X,Y) | (X,Y) dans CHOIX}\n",
    "  - Ajouter (Xg,Yg) à PONTS_CONSTRUITS et Yg à ILES_CONNECTEES\n",
    "\n",
    "L'algorithme ci-dessus est présenté sous forme de pseudo-code, et son implémentation efficace dépend du choix des structures de données pour encoder les coûts de construction des points, encoder *CHOIX* et *ILES_CONNECTEES*, ainsi que de l'algorithme pour déterminer le choix glouton à chaque itération de la boucle *Pour*."
   ]
  },
  {
   "cell_type": "markdown",
   "metadata": {},
   "source": [
    "**Preuve de correction de cet algorithme.**\n",
    "\n",
    "On note {*(I1,J1)*,... ,*(Ik,Jk)*} les ponts choisis par l'algorithme de Prim, dans l'ordre où ils sont choisis (*(I1,J1)* est le premier pont construit, etc). Notez que *k=N-1*.\n",
    "\n",
    "Soit {*(X1,Y1)*,... ,*(Xk,Yk)*} une solution optimale arbitraire. On va montrer qu'on peut la transformer en {*(I1,J1)*,... ,*(Ik,Jk)*}, tout en conservant le même coût de construction, ce qui implique que {*(I1,J1)*,... ,*(Ik,Jk)*} est optimale.\n",
    "\n",
    "Soit *p* le plus grand indice tel que les ponts {*(I1,J1)*,... ,*(Ip,Jp)*} (les *p* premiers ponts construits par l'algorithmle glouton) sont dans  {*(X1,Y1)*,... ,*(Xk,Yk)*}. \n",
    "\n",
    "Si *p=N-1*, la solution gloutonne est donc optimale. Supposons donc que *p<N-1*.\n",
    "\n",
    "On note *S* l'ensemble des îles connectées par le réseau de ponts {*(I1,J1)*, ..., *(Ip,Jp)*} (si *p=1*, *S* est la première île insérée dans \n",
    "\n",
    "Ajoutons le pont *(Ip,Jp)* à la solution optimale {*(X1,Y1)*,... ,*(Xk,Yk)*}. Cela résulte en un réseau de ponts ayant *exactement un cycle de ponts*.\n",
    "\n",
    "On peut montrer facilement que ce cycle de ponts contient un autre pont que *(Ip,Jp)* qui connecte une île de *S* et une île n'appartenant pas à *S*. Notons *(Xq,Yq)* ce pont. \n",
    "\n",
    "On a trois situations possibles : *c(Ip,Jp) < c(Xq,Yq)*, *c(Ip,Jp) > c(Xq,Yq)* ou *c(Ip,Jp) = c(Xq,Yq)*. \n",
    "\n",
    "Si *c(Ip,Jp) < c(Xq,Yq)* alors en remplaçant dans la solution optimale *(Xq,Yq)* par *(Ip,Jp)* on obtient une meilleure solution ce qui est absurde (cela contredit le fait que {*(X1,Y1)*,... ,*(Xk,Yk)*} est une solution optimale). Donc on ne peut pas supposer que *c(Ip,Jp) < c(Xq,Yq)*.\n",
    "\n",
    "Si *c(Ip,Jp) > c(Xq,Yq)* l'algorithme glouton aurait choisi *(Xq,Yq)* à la place de *(Ip,Jp)*. Donc on ne peut pas supposer que *c(Ip,Jp) > c(Xq,Yq)*.\n",
    "\n",
    "Donc *c(Ip,Jp) = c(Xq,Yq)*. On peut alors remplacer dans {*(X1,Y1)*,... ,*(Xk,Yk)*} le pont *(Xq,Yq)* par le pont *(Ip,Jp)* et on a toujours une solution valide de même coût, donc optimale. \n",
    "\n",
    "On peut répéter ce processus en prenant comme nouvelle solution optimale {*(X1,Y1)*,... ,*(Xk,Yk)*} - {*(Xq,Yq)*} + {*(Ip,Jp)*} pour transformer pas à pas {*(X1,Y1)*,... ,*(Xk,Yk)*} en {*(I1,J1)*, ..., *(Ip,Jp)*} sans augmenter le coût de construction, donc on en déduit que {*(I1,J1)*, ..., *(Ip,Jp)*} est optimale.\n",
    "\n",
    "#### Commentaires.\n",
    "On a là un exemple qui se base sur le principe de transformation pas-à-pas d'une solution optimale arbitraire en une solution gloutonne à coût constant. C'est une des technique usuelles de preuves d'algorithmes gloutons qui ne nécessite pas d'appliquer formellement un raisonnement par induction/récurrence."
   ]
  },
  {
   "cell_type": "markdown",
   "metadata": {},
   "source": [
    "# 2. Le festival de films\n",
    "\n",
    "**Enoncé du problème.** On a *N* films projetés dans un cinéma, chacun défini par son heure de début et son heure de fin. On veut voir un nombre maximum de films en s'interdisant d'arriver en retard durant un film ou de partir avant la fin.\n",
    "\n",
    "**Algorithme glouton.** \n",
    "\n",
    "// On commence avec une liste de films vide\n",
    "- FILMS_CHOISIS = {}   \n",
    "- Tant qu'il reste au moins un film qu'on peut voir en entier  \n",
    "  - Soit CHOIX l'ensemble des films n'ayant pas un film complet que l'on peut voir avant\n",
    "  - Soit F le film de CHOIX qui se termine le plus tôt\n",
    "  - Ajouter F à FILMS_CHOISIS"
   ]
  },
  {
   "cell_type": "markdown",
   "metadata": {},
   "source": [
    "**Preuve de correction de cet algorithm.**\n",
    "\n",
    "On pourrait appliquer le principe de la preuve de l'algorithme de PRIM à cet algorithme. On prend une solution optimale arbitraire, on regarde le premier film où elle diffère de la solution gloutonne et on peut remplacer le film de la solution optimale par le file de la solution gloutonne sans en modifier l'optimalité (on remplace un film par un autre film). En itérant ce processus, on transforme la solution optimale en la solution gloutonne à nombre de films constants.\n",
    "\n",
    "On peut aussi faire une preuve par récurrence sur *N*.\n",
    "\n",
    "*Cas de base.* Si *N=1* (le cinéma projette un seul film), l'algorithme glouton est trivialement optimal.\n",
    "\n",
    "*Hypothèse d'induction.* Supposons que si *N>=1*, l'algorithme glouton est optimal.\n",
    "\n",
    "*Cas général.* Supposons que le cinéma projette *N+1* films (*N>=1*). On ajoute donc un film au programme et on se demande si l'algorithme glouton produit toujours une solution optimale.  \n",
    "Soit une solution optimale arbitraire.  \n",
    "Soit *F1* le premier film de la sloution gloutonne et *G1* le premier film de cette solution optimale.  \n",
    "Par définition de l'algorithme glouton, *F1* ne se termine pas plus tard que *G1*.  \n",
    "Soient tous les films qui sont projetés après la fin de *G1*. On en a au plus *N* (exactement *N* si *G1=F1* et aucun autre film ne commence durant *F1*).   \n",
    "On peut donc utiliser l'hypothèse d'induction pour affirmer que l'algorithme glouton appliqué à ces films calcule une solution optimale sur cet ensemble de films.  \n",
    "Donc le nombre de films de la solution optimale de départ qui sont projetés après *G1* est égal au nombre de films de la solution gloutonne qui sont projetés après *F1*.    \n",
    "Donc la solution optimale et la solution gloutonne ont le même nombre de films.   \n",
    "Donc la solution gloutonne est optimale.  "
   ]
  },
  {
   "cell_type": "code",
   "execution_count": null,
   "metadata": {},
   "outputs": [],
   "source": []
  }
 ],
 "metadata": {
  "celltoolbar": "Diaporama",
  "kernelspec": {
   "display_name": "Python 3",
   "language": "python",
   "name": "python3"
  },
  "language_info": {
   "codemirror_mode": {
    "name": "ipython",
    "version": 3
   },
   "file_extension": ".py",
   "mimetype": "text/x-python",
   "name": "python",
   "nbconvert_exporter": "python",
   "pygments_lexer": "ipython3",
   "version": "3.6.8"
  }
 },
 "nbformat": 4,
 "nbformat_minor": 2
}
